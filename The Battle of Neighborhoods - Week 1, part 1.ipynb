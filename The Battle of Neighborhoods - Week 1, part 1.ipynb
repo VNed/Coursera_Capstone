{
    "nbformat_minor": 1, 
    "cells": [
        {
            "source": "# Coursera Cpastone Project", 
            "cell_type": "markdown", 
            "metadata": {}
        }, 
        {
            "source": "## The Battle of Neighborhoods (Week 1, Part 1) \n", 
            "cell_type": "markdown", 
            "metadata": {}
        }, 
        {
            "source": "### Description of the problem and background", 
            "cell_type": "markdown", 
            "metadata": {
                "collapsed": true
            }
        }, 
        {
            "source": "#### New York City comprises 5 boroughs sitting where the Hudson River meets the Atlantic Ocean. At its core is Manhattan, a densely populated borough that\u2019s among the world\u2019s major commercial, financial and cultural centers. \n\nThis also means that the market is highly competitive. As it is highly developed city so cost of doing business is also one of the highest. Thus, any new business venture or expansion needs to be analyzed carefully. The insights derived from analysis will give good understanding of the business environment which help in strategically targeting the market. This will help in reduction of risk. And the Return on Investment will be reasonable.\n\nA well established restaurant chain for Bulgarian traditional food is looking for an opportunity to expand its business in North America. As an employee it is my job to analyze big cities like New York, San Francisco, Toronto etc. and propose a suitable location for the restaurant. In order to accomplish the task I need to gather the following information:\n1. Check for hotels and apartments preferably  in the downtown area.\n2. List the nearby venues like restaurants, coffee shops, shopping centers business centers.\n3. Most famous sites that should be visited in the city.\n4. Other restaurants offering Balkan food. \n\nIf a business wants to stay competitive many other thigs must be takin into consideration like population, demographics, markets and access to ingredients, competition etc.\n", 
            "cell_type": "markdown", 
            "metadata": {}
        }, 
        {
            "source": "### Business problem:", 
            "cell_type": "markdown", 
            "metadata": {}
        }, 
        {
            "source": "#### The developed can be used to recommend a suitable location for opening a restaurant in any city around the world. If a business wants to stay competitive many other thigs must be takin into consideration like population, demographics, markets and access to ingredients, competition etc. Once the analysis is done it can be presented to the management for the purpose of making the decision whether it is suitable to expand the business.", 
            "cell_type": "markdown", 
            "metadata": {}
        }, 
        {
            "execution_count": null, 
            "cell_type": "code", 
            "metadata": {}, 
            "outputs": [], 
            "source": ""
        }
    ], 
    "metadata": {
        "kernelspec": {
            "display_name": "Python 3.5", 
            "name": "python3", 
            "language": "python"
        }, 
        "language_info": {
            "mimetype": "text/x-python", 
            "nbconvert_exporter": "python", 
            "version": "3.5.5", 
            "name": "python", 
            "file_extension": ".py", 
            "pygments_lexer": "ipython3", 
            "codemirror_mode": {
                "version": 3, 
                "name": "ipython"
            }
        }
    }, 
    "nbformat": 4
}