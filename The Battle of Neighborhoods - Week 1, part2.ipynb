{
    "nbformat_minor": 1, 
    "cells": [
        {
            "source": "# Coursera Cpastone Project", 
            "cell_type": "markdown", 
            "metadata": {
                "collapsed": true
            }
        }, 
        {
            "source": "## The Battle of Neighborhoods (Week 1, Part 2) ", 
            "cell_type": "markdown", 
            "metadata": {}
        }, 
        {
            "source": "### Data section", 
            "cell_type": "markdown", 
            "metadata": {}
        }, 
        {
            "source": "#### New York City comprises 5 boroughs sitting where the Hudson River meets the Atlantic Ocean. At its core is Manhattan, a densely populated borough that\u2019s among the world\u2019s major commercial, financial and cultural centers. The data for the 5 boroughs and 306 neighborhoods is available at https://geo.nyu.edu/catalog/nyu_2451_34572.\n#### A data for the local market is also needed in order to analyze the availability of needed food and ingredients.  In the below link Farmer market data is given:\nhttps://data.cityofnewyork.us/dataset/DOHMH-Farmers-Markets-and-Food-Boxes/8vwk-6iz2\n\n#### A farmers' market is often defined as a public site used by two or more local or regional producers for the direct sale of farm products to consumers. In addition to fresh fruits and vegetables, markets may sell dairy products, fish, meat, baked goods, and other minimally processed foods.\n#### For further analysis we need to gather information about Now York population, demographics and cuisine. That data can be scraped from various websitelike wikipedia:\nhttps://en.wikipedia.org/wiki/New_York_City \n\nhttps://en.wikipedia.org/wiki/Cuisine_of_New_York_City \n\nhttps://en.wikipedia.org/wiki/Economy_of_New_York_City \n\n#### I will also use foursquare to produce to get the coordinates of every venue in a given neighbourhood as well as the neighborhood itself.", 
            "cell_type": "markdown", 
            "metadata": {}
        }, 
        {
            "source": "\n", 
            "cell_type": "markdown", 
            "metadata": {}
        }, 
        {
            "execution_count": null, 
            "cell_type": "code", 
            "metadata": {}, 
            "outputs": [], 
            "source": ""
        }
    ], 
    "metadata": {
        "kernelspec": {
            "display_name": "Python 3.5", 
            "name": "python3", 
            "language": "python"
        }, 
        "language_info": {
            "mimetype": "text/x-python", 
            "nbconvert_exporter": "python", 
            "version": "3.5.5", 
            "name": "python", 
            "file_extension": ".py", 
            "pygments_lexer": "ipython3", 
            "codemirror_mode": {
                "version": 3, 
                "name": "ipython"
            }
        }
    }, 
    "nbformat": 4
}